{
  "nbformat": 4,
  "nbformat_minor": 0,
  "metadata": {
    "colab": {
      "name": "sets.ipynb",
      "provenance": [],
      "authorship_tag": "ABX9TyNqc5hzP7MDItY4W3DT5Twd",
      "include_colab_link": true
    },
    "kernelspec": {
      "name": "python3",
      "display_name": "Python 3"
    },
    "language_info": {
      "name": "python"
    }
  },
  "cells": [
    {
      "cell_type": "markdown",
      "metadata": {
        "id": "view-in-github",
        "colab_type": "text"
      },
      "source": [
        "<a href=\"https://colab.research.google.com/github/Avinash-099/python_new/blob/MODULE-2/sets.ipynb\" target=\"_parent\"><img src=\"https://colab.research.google.com/assets/colab-badge.svg\" alt=\"Open In Colab\"/></a>"
      ]
    },
    {
      "cell_type": "code",
      "execution_count": null,
      "metadata": {
        "id": "eH4LUjTY3b8x",
        "colab": {
          "base_uri": "https://localhost:8080/"
        },
        "outputId": "38e1b6b0-129d-46c3-d35b-57601c307b5e"
      },
      "outputs": [
        {
          "output_type": "stream",
          "name": "stdout",
          "text": [
            "{'mango', 'banana', 'cherry', 'apple'}\n"
          ]
        }
      ],
      "source": [
        "thisset = {\"apple\", \"banana\", \"cherry\"}\n",
        "thisset.add('mango')\n",
        "print(thisset)"
      ]
    },
    {
      "cell_type": "code",
      "source": [
        "thisset = {\"apple\", \"banana\", \"cherry\"}\n",
        "thisset.pop()\n",
        "print(thisset)"
      ],
      "metadata": {
        "colab": {
          "base_uri": "https://localhost:8080/"
        },
        "id": "GyhieVqNWLAD",
        "outputId": "0e246b49-02d7-48ab-bb82-f88f929f94da"
      },
      "execution_count": null,
      "outputs": [
        {
          "output_type": "stream",
          "name": "stdout",
          "text": [
            "{'cherry', 'apple'}\n"
          ]
        }
      ]
    },
    {
      "cell_type": "code",
      "source": [
        "#loop in sets\n",
        "lang={'python','c','java','c++'}\n",
        "for x in lang:\n",
        "  print(x)"
      ],
      "metadata": {
        "colab": {
          "base_uri": "https://localhost:8080/"
        },
        "id": "6wm4aHaVWLJK",
        "outputId": "f2037f51-1eb4-4fc9-e99c-315f2f02cd4c"
      },
      "execution_count": null,
      "outputs": [
        {
          "output_type": "stream",
          "name": "stdout",
          "text": [
            "python\n",
            "c++\n",
            "java\n",
            "c\n"
          ]
        }
      ]
    },
    {
      "cell_type": "code",
      "source": [
        "set1={ 'a','b','c'}\n",
        "set2={1,2,3}\n",
        "print(set1.union(set2))"
      ],
      "metadata": {
        "colab": {
          "base_uri": "https://localhost:8080/"
        },
        "id": "fq9DLHiUXdzM",
        "outputId": "ee3f1566-0669-4b75-96a9-c3f00f3ec543"
      },
      "execution_count": null,
      "outputs": [
        {
          "output_type": "stream",
          "name": "stdout",
          "text": [
            "{'a', 1, 2, 3, 'b', 'c'}\n"
          ]
        }
      ]
    },
    {
      "cell_type": "code",
      "source": [
        "x = {\"apple\", \"banana\", \"cherry\"}\n",
        "y = {\"google\", \"microsoft\", \"apple\"}\n",
        "print(x.intersection(y))"
      ],
      "metadata": {
        "colab": {
          "base_uri": "https://localhost:8080/"
        },
        "id": "Lw-5Z72xYXCN",
        "outputId": "41d0e776-646f-46cd-f8d4-969d71001ea5"
      },
      "execution_count": null,
      "outputs": [
        {
          "output_type": "stream",
          "name": "stdout",
          "text": [
            "{'apple'}\n"
          ]
        }
      ]
    },
    {
      "cell_type": "code",
      "source": [
        "x = {\"apple\", \"banana\", \"cherry\"}\n",
        "y = {\"google\", \"microsoft\", \"apple\"}\n",
        "print(x.symmetric_difference(y))"
      ],
      "metadata": {
        "colab": {
          "base_uri": "https://localhost:8080/"
        },
        "id": "WFLa9mIKYtTr",
        "outputId": "88f1c812-a0b8-4247-d9a5-d17ea2ef71c9"
      },
      "execution_count": null,
      "outputs": [
        {
          "output_type": "stream",
          "name": "stdout",
          "text": [
            "{'banana', 'google', 'microsoft', 'cherry'}\n"
          ]
        }
      ]
    },
    {
      "cell_type": "code",
      "source": [
        "lang={'c','python','c++','java'}\n",
        "lang.discard('python')\n",
        "print(lang)"
      ],
      "metadata": {
        "id": "VFGtFUvRZQ2r",
        "colab": {
          "base_uri": "https://localhost:8080/"
        },
        "outputId": "d3e6481a-bbfe-4398-bbbf-d0f5bafb5bf6"
      },
      "execution_count": null,
      "outputs": [
        {
          "output_type": "stream",
          "name": "stdout",
          "text": [
            "{'c++', 'java', 'c'}\n"
          ]
        }
      ]
    },
    {
      "cell_type": "code",
      "source": [
        "lang={'c','python','c++','java'}\n",
        "for x in lang:\n",
        "  if x==\"python\":\n",
        "     continue\n",
        "     print(lang)"
      ],
      "metadata": {
        "id": "sN73uGhTcCIo"
      },
      "execution_count": null,
      "outputs": []
    },
    {
      "cell_type": "code",
      "source": [
        "placement = {\n",
        "    \n",
        "    'name': str(input('enter your name')),\n",
        "    'age' : int(input('enter your age')),\n",
        "    'course' :str(input('enter your course')),\n",
        "    'cgpa': float(input('enter your cgpa')),\n",
        "    'skills': \n",
        "\n",
        "}"
      ],
      "metadata": {
        "id": "6jFLGlfEg5tt"
      },
      "execution_count": null,
      "outputs": []
    },
    {
      "cell_type": "code",
      "source": [
        "while (str=='.'):\n",
        "  i=str(input('enter your skills'))\n",
        "  i += 1"
      ],
      "metadata": {
        "id": "ZwkiI9lnitwO"
      },
      "execution_count": null,
      "outputs": []
    }
  ]
}