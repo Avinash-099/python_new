{
  "nbformat": 4,
  "nbformat_minor": 0,
  "metadata": {
    "colab": {
      "name": "DICTIONARIES.ipynb",
      "provenance": [],
      "authorship_tag": "ABX9TyMvuUdVlnOm+9otEM30Hios",
      "include_colab_link": true
    },
    "kernelspec": {
      "name": "python3",
      "display_name": "Python 3"
    },
    "language_info": {
      "name": "python"
    }
  },
  "cells": [
    {
      "cell_type": "markdown",
      "metadata": {
        "id": "view-in-github",
        "colab_type": "text"
      },
      "source": [
        "<a href=\"https://colab.research.google.com/github/Avinash-099/python_new/blob/MODULE-2/DICTIONARIES.ipynb\" target=\"_parent\"><img src=\"https://colab.research.google.com/assets/colab-badge.svg\" alt=\"Open In Colab\"/></a>"
      ]
    },
    {
      "cell_type": "code",
      "execution_count": 1,
      "metadata": {
        "colab": {
          "base_uri": "https://localhost:8080/"
        },
        "id": "YCWiHzEftYuk",
        "outputId": "1f739b43-8f07-4b1e-9b17-a443af6b1ffd"
      },
      "outputs": [
        {
          "output_type": "stream",
          "name": "stdout",
          "text": [
            "{'brand': 'Ford', 'model': 'Mustang', 'year': 1964}\n"
          ]
        }
      ],
      "source": [
        "company = {\n",
        "\"brand\": \"Ford\",\n",
        "\"model\": \"Mustang\",\n",
        "\"year\": 1964\n",
        "}\n",
        "print(company)"
      ]
    },
    {
      "cell_type": "code",
      "source": [
        "## Duplicates Not Allowed\n",
        "names = {\n",
        "\"brand\": \"Ford\",\n",
        "\"model\": \"Mustang\",\n",
        "\"year\": 1964,\n",
        "\"year\": 2020\n",
        "}\n",
        "print(names)"
      ],
      "metadata": {
        "colab": {
          "base_uri": "https://localhost:8080/"
        },
        "id": "1xUxO3AjtnPo",
        "outputId": "53a5e74f-00bc-4b5c-9d84-ec3279b18879"
      },
      "execution_count": 2,
      "outputs": [
        {
          "output_type": "stream",
          "name": "stdout",
          "text": [
            "{'brand': 'Ford', 'model': 'Mustang', 'year': 2020}\n"
          ]
        }
      ]
    },
    {
      "cell_type": "code",
      "source": [
        "## Data Types\n",
        "names = {\n",
        "\"brand\": \"Ford\",\n",
        "\"electric\": False,\n",
        "\"year\": 1964,\n",
        "\"colors\": [\"red\", \"white\", \"blue\"]\n",
        "}\n",
        "print(names)"
      ],
      "metadata": {
        "colab": {
          "base_uri": "https://localhost:8080/"
        },
        "id": "pzH2kjqftrZW",
        "outputId": "7b7b77b2-205b-4352-effc-c9b2cb802f8b"
      },
      "execution_count": 3,
      "outputs": [
        {
          "output_type": "stream",
          "name": "stdout",
          "text": [
            "{'brand': 'Ford', 'electric': False, 'year': 1964, 'colors': ['red', 'white', 'blue']}\n"
          ]
        }
      ]
    },
    {
      "cell_type": "code",
      "source": [
        "names = {\n",
        "\"brand\": \"Ford\",\n",
        "\"model\": \"Mustang\",\n",
        "\"year\": 1964\n",
        "}\n",
        "x = names[\"model\"]\n",
        "print(x)"
      ],
      "metadata": {
        "colab": {
          "base_uri": "https://localhost:8080/"
        },
        "id": "aKniIg0CtuEj",
        "outputId": "1f733953-494a-4bee-ace7-6452c0a82089"
      },
      "execution_count": 4,
      "outputs": [
        {
          "output_type": "stream",
          "name": "stdout",
          "text": [
            "Mustang\n"
          ]
        }
      ]
    },
    {
      "cell_type": "code",
      "source": [
        "## get key values\n",
        "thisdict = {\n",
        "  \"brand\": \"Ford\",\n",
        "  \"model\": \"Mustang\",\n",
        "  \"year\": 1964\n",
        "}\n",
        "x = thisdict.keys()\n",
        "print(x)"
      ],
      "metadata": {
        "colab": {
          "base_uri": "https://localhost:8080/"
        },
        "id": "p3S8DHBptz9T",
        "outputId": "6c0cd1d1-68d6-40e0-c84c-95990bcb0642"
      },
      "execution_count": 5,
      "outputs": [
        {
          "output_type": "stream",
          "name": "stdout",
          "text": [
            "dict_keys(['brand', 'model', 'year'])\n"
          ]
        }
      ]
    },
    {
      "cell_type": "code",
      "source": [
        "car = {\n",
        "\"brand\": \"Fergusion\",\n",
        "\"model\": \"241\",\n",
        "\"year\": 1964\n",
        "}\n",
        "x = car.values()\n",
        "print(x) \n",
        "car[\"color\"] = \"red\"\n",
        "print(x) "
      ],
      "metadata": {
        "colab": {
          "base_uri": "https://localhost:8080/"
        },
        "id": "SBIH4oltt18s",
        "outputId": "e044f0b7-c507-4197-c8fc-ff1525530f44"
      },
      "execution_count": 6,
      "outputs": [
        {
          "output_type": "stream",
          "name": "stdout",
          "text": [
            "dict_values(['Fergusion', '241', 1964])\n",
            "dict_values(['Fergusion', '241', 1964, 'red'])\n"
          ]
        }
      ]
    },
    {
      "cell_type": "code",
      "source": [
        "car = {\n",
        "\"brand\": \"Fergusion\",\n",
        "\"model\": \"241\",\n",
        "\"year\": 2002\n",
        "}\n",
        "x = car.items()\n",
        "print(x)\n",
        "car[\"color\"] = \"black\"\n",
        "print(x) "
      ],
      "metadata": {
        "colab": {
          "base_uri": "https://localhost:8080/"
        },
        "id": "SbNtHgs-t63a",
        "outputId": "abcf73dd-2b0a-4e6f-fa86-5e8d02f3bef6"
      },
      "execution_count": 7,
      "outputs": [
        {
          "output_type": "stream",
          "name": "stdout",
          "text": [
            "dict_items([('brand', 'Fergusion'), ('model', '241'), ('year', 2002)])\n",
            "dict_items([('brand', 'Fergusion'), ('model', '241'), ('year', 2002), ('color', 'black')])\n"
          ]
        }
      ]
    },
    {
      "cell_type": "code",
      "source": [
        "thisdict = {\n",
        "  \"brand\": \"Fergusion\",\n",
        "  \"model\": \"241\",\n",
        "  \"year\": 2005\n",
        "}\n",
        "if \"model\" in thisdict:\n",
        "  print(\"Yes, 'model' is one of the keys in the thisdict dictionary\")"
      ],
      "metadata": {
        "colab": {
          "base_uri": "https://localhost:8080/"
        },
        "id": "6grZvxIIt9p3",
        "outputId": "870cfc1c-378c-4878-82a6-d2670ee7cb26"
      },
      "execution_count": 8,
      "outputs": [
        {
          "output_type": "stream",
          "name": "stdout",
          "text": [
            "Yes, 'model' is one of the keys in the thisdict dictionary\n"
          ]
        }
      ]
    },
    {
      "cell_type": "code",
      "source": [
        "thisdict = {\n",
        "  \"brand\": \"power track\",\n",
        "  \"model\": \"380\",\n",
        "  \"year\": 2022\n",
        "}\n",
        "thisdict[\"year\"] = 2023\n",
        "print(thisdict)"
      ],
      "metadata": {
        "colab": {
          "base_uri": "https://localhost:8080/"
        },
        "id": "qpMIrbP4t_-G",
        "outputId": "3ed1c0c2-4c80-4593-a5f4-8cd6650460ac"
      },
      "execution_count": 9,
      "outputs": [
        {
          "output_type": "stream",
          "name": "stdout",
          "text": [
            "{'brand': 'power track', 'model': '380', 'year': 2023}\n"
          ]
        }
      ]
    },
    {
      "cell_type": "code",
      "source": [
        "thisdict = {\n",
        "  \"brand\": \"sonalika\",\n",
        "  \"model\": \"385\",\n",
        "  \"year\": 1964\n",
        "}\n",
        "thisdict[\"color\"] = \"red\"\n",
        "print(thisdict)"
      ],
      "metadata": {
        "colab": {
          "base_uri": "https://localhost:8080/"
        },
        "id": "wuIRdoWVuDkb",
        "outputId": "757ebba9-d5bd-46a9-e692-f3a52f818aa0"
      },
      "execution_count": 10,
      "outputs": [
        {
          "output_type": "stream",
          "name": "stdout",
          "text": [
            "{'brand': 'sonalika', 'model': '385', 'year': 1964, 'color': 'red'}\n"
          ]
        }
      ]
    },
    {
      "cell_type": "code",
      "source": [
        "## update dictionary\n",
        "thisdict = {\n",
        "  \"brand\": \"sonalika\",\n",
        "  \"model\": \"445\",\n",
        "  \"year\": 2020\n",
        "}\n",
        "thisdict.update({\"color\": \"red\"})\n",
        "print(thisdict)"
      ],
      "metadata": {
        "colab": {
          "base_uri": "https://localhost:8080/"
        },
        "id": "RXrx6rR8uF6d",
        "outputId": "9dd107a8-b536-4956-9705-a80306e8f08a"
      },
      "execution_count": 11,
      "outputs": [
        {
          "output_type": "stream",
          "name": "stdout",
          "text": [
            "{'brand': 'sonalika', 'model': '445', 'year': 2020, 'color': 'red'}\n"
          ]
        }
      ]
    },
    {
      "cell_type": "code",
      "source": [
        "##clear() \n",
        "thisdict = {\n",
        "  \"brand\": \"swaraj\",\n",
        "  \"model\": \"843\",\n",
        "  \"year\": 1964\n",
        "}\n",
        "thisdict.clear()\n",
        "print(thisdict)"
      ],
      "metadata": {
        "colab": {
          "base_uri": "https://localhost:8080/"
        },
        "id": "yugy6-uHuKP9",
        "outputId": "8cf82cb7-c9b2-4a85-b956-122b5e36495f"
      },
      "execution_count": 12,
      "outputs": [
        {
          "output_type": "stream",
          "name": "stdout",
          "text": [
            "{}\n"
          ]
        }
      ]
    },
    {
      "cell_type": "code",
      "source": [
        "## keys\n",
        "thisdict =\t{\n",
        "  \"brand\": \"mahindra\",\n",
        "  \"model\": \"415\",\n",
        "  \"year\": 2018\n",
        "}\n",
        "for x in thisdict.keys():\n",
        "  print(x)\n"
      ],
      "metadata": {
        "colab": {
          "base_uri": "https://localhost:8080/"
        },
        "id": "eNzznPqQuNMp",
        "outputId": "0ea2aaf0-244b-4e23-add8-ee8956b26bf2"
      },
      "execution_count": 13,
      "outputs": [
        {
          "output_type": "stream",
          "name": "stdout",
          "text": [
            "brand\n",
            "model\n",
            "year\n"
          ]
        }
      ]
    },
    {
      "cell_type": "code",
      "source": [
        "## items\n",
        "thisdict =\t{\n",
        "  \"brand\": \"mahindra\",\n",
        "  \"model\": \"515\",\n",
        "  \"year\": 2022\n",
        "}\n",
        "for x, y in thisdict.items():\n",
        "  print(x, y)"
      ],
      "metadata": {
        "colab": {
          "base_uri": "https://localhost:8080/"
        },
        "id": "EMxM1aYtuPl2",
        "outputId": "cd37870b-615d-4c40-c1da-d873c9a32dc0"
      },
      "execution_count": 14,
      "outputs": [
        {
          "output_type": "stream",
          "name": "stdout",
          "text": [
            "brand mahindra\n",
            "model 515\n",
            "year 2022\n"
          ]
        }
      ]
    }
  ]
}