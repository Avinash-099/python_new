{
  "nbformat": 4,
  "nbformat_minor": 0,
  "metadata": {
    "colab": {
      "name": "strings_python.ipynb",
      "provenance": [],
      "authorship_tag": "ABX9TyMemF2M/oEYZZHueY7R95GC",
      "include_colab_link": true
    },
    "kernelspec": {
      "name": "python3",
      "display_name": "Python 3"
    },
    "language_info": {
      "name": "python"
    }
  },
  "cells": [
    {
      "cell_type": "markdown",
      "metadata": {
        "id": "view-in-github",
        "colab_type": "text"
      },
      "source": [
        "<a href=\"https://colab.research.google.com/github/Avinash-099/python_new/blob/MODULE-2/strings_python.ipynb\" target=\"_parent\"><img src=\"https://colab.research.google.com/assets/colab-badge.svg\" alt=\"Open In Colab\"/></a>"
      ]
    },
    {
      "cell_type": "code",
      "execution_count": null,
      "metadata": {
        "colab": {
          "base_uri": "https://localhost:8080/"
        },
        "id": "vb19nMdB-heg",
        "outputId": "be2cae5d-8671-460f-db93-5484ff4b432f"
      },
      "outputs": [
        {
          "output_type": "stream",
          "name": "stdout",
          "text": [
            "this is avinash coming from daba gardens allipuram to gitam \n",
            "60\n"
          ]
        }
      ],
      "source": [
        "#string\n",
        "address= 'this is avinash coming from daba gardens allipuram to gitam '\n",
        "print(address)\n",
        "print(len(address))"
      ]
    },
    {
      "cell_type": "code",
      "source": [
        "#string_1\n",
        "address= 'this is avinash coming from daba gardens allipuram to gitam '\n",
        "if 'avinash' in address:\n",
        "   print('yes the entered text consists in address ')\n",
        "else :\n",
        "   print('no the entered text consists in address')"
      ],
      "metadata": {
        "id": "sMBSCZ0RGcVb",
        "colab": {
          "base_uri": "https://localhost:8080/"
        },
        "outputId": "5783b2db-2747-4dd5-d625-5dd8f5149e57"
      },
      "execution_count": null,
      "outputs": [
        {
          "output_type": "stream",
          "name": "stdout",
          "text": [
            "yes the entered text consists in address \n"
          ]
        }
      ]
    },
    {
      "cell_type": "code",
      "source": [
        "#check_string\n",
        "address= 'this is avinash coming from daba gardens allipuram to gitam '\n",
        "print('avinash' in address)\n",
        "print('bhavan' in address)\n",
        "print('i' in address)\n",
        "print('z' in address)"
      ],
      "metadata": {
        "colab": {
          "base_uri": "https://localhost:8080/"
        },
        "id": "0-tciGO7ATAw",
        "outputId": "264fe798-8e47-4b92-a404-6d22b5d7f9a4"
      },
      "execution_count": null,
      "outputs": [
        {
          "output_type": "stream",
          "name": "stdout",
          "text": [
            "True\n",
            "False\n",
            "True\n",
            "False\n"
          ]
        }
      ]
    },
    {
      "cell_type": "code",
      "source": [
        "# if_not \n",
        "address= 'this is avinash coming from daba gardens allipuram to gitam '\n",
        "print('avinash' not in address)\n",
        "print(\"something\" not in address)\n"
      ],
      "metadata": {
        "colab": {
          "base_uri": "https://localhost:8080/"
        },
        "id": "62i3QTo1AraN",
        "outputId": "d9021fbf-7122-4f8e-f8c4-1c62cc33d46a"
      },
      "execution_count": null,
      "outputs": [
        {
          "output_type": "stream",
          "name": "stdout",
          "text": [
            "False\n",
            "True\n"
          ]
        }
      ]
    },
    {
      "cell_type": "code",
      "source": [
        "#if_in\n",
        "address= 'this is avinash coming from daba gardens allipuram to gitam '\n",
        "print(\"avinash\"in address)\n",
        "print(\"from\" in address , 'this' in address)\n",
        "print(\"daba\" in address , 'something' in address)\n"
      ],
      "metadata": {
        "id": "i5m1Cvv2Bz2A",
        "colab": {
          "base_uri": "https://localhost:8080/"
        },
        "outputId": "19fc0336-7439-400a-a5b6-9639adff0c92"
      },
      "execution_count": null,
      "outputs": [
        {
          "output_type": "stream",
          "name": "stdout",
          "text": [
            "True\n",
            "True True\n",
            "True False\n"
          ]
        }
      ]
    },
    {
      "cell_type": "code",
      "source": [
        "#slicing\n",
        "address= 'this is avinash coming from daba gardens allipuram to gitam '\n",
        "print(address[2])\n",
        "print(address[0:])\n",
        "print(address[4:])\n",
        "print(address[0:4])\n",
        "print(address[0:4] , address[4:7])\n",
        "print(address[-7:-1] , address[-1:-7])\n"
      ],
      "metadata": {
        "colab": {
          "base_uri": "https://localhost:8080/"
        },
        "id": "vQGtJS3lDfJj",
        "outputId": "62eb9e21-2843-413a-e9f6-9000f3b46fed"
      },
      "execution_count": null,
      "outputs": [
        {
          "output_type": "stream",
          "name": "stdout",
          "text": [
            "i\n",
            "this is avinash coming from daba gardens allipuram to gitam \n",
            " is avinash coming from daba gardens allipuram to gitam \n",
            "this\n",
            "this  is\n",
            " gitam \n"
          ]
        }
      ]
    },
    {
      "cell_type": "code",
      "source": [
        "#reverse of a string\n",
        "address= 'this is avinash coming from daba gardens allipuram to gitam '"
      ],
      "metadata": {
        "id": "NHmyLS2ZFkS7"
      },
      "execution_count": null,
      "outputs": []
    },
    {
      "cell_type": "code",
      "source": [
        "#modifying a string \n",
        "address= 'this is avinash coming from daba gardens allipuram to gitam '\n",
        "print(address.upper())\n",
        "print(address.lower())\n"
      ],
      "metadata": {
        "colab": {
          "base_uri": "https://localhost:8080/",
          "height": 234
        },
        "id": "80a3BqscGgv7",
        "outputId": "2063230a-5940-4fa3-e8e8-0b54e94fedfb"
      },
      "execution_count": null,
      "outputs": [
        {
          "output_type": "stream",
          "name": "stdout",
          "text": [
            "THIS IS AVINASH COMING FROM DABA GARDENS ALLIPURAM TO GITAM \n",
            "this is avinash coming from daba gardens allipuram to gitam \n"
          ]
        },
        {
          "output_type": "error",
          "ename": "TypeError",
          "evalue": "ignored",
          "traceback": [
            "\u001b[0;31m---------------------------------------------------------------------------\u001b[0m",
            "\u001b[0;31mTypeError\u001b[0m                                 Traceback (most recent call last)",
            "\u001b[0;32m<ipython-input-35-9f6ba5ed0e28>\u001b[0m in \u001b[0;36m<module>\u001b[0;34m()\u001b[0m\n\u001b[1;32m      3\u001b[0m \u001b[0mprint\u001b[0m\u001b[0;34m(\u001b[0m\u001b[0maddress\u001b[0m\u001b[0;34m.\u001b[0m\u001b[0mupper\u001b[0m\u001b[0;34m(\u001b[0m\u001b[0;34m)\u001b[0m\u001b[0;34m)\u001b[0m\u001b[0;34m\u001b[0m\u001b[0;34m\u001b[0m\u001b[0m\n\u001b[1;32m      4\u001b[0m \u001b[0mprint\u001b[0m\u001b[0;34m(\u001b[0m\u001b[0maddress\u001b[0m\u001b[0;34m.\u001b[0m\u001b[0mlower\u001b[0m\u001b[0;34m(\u001b[0m\u001b[0;34m)\u001b[0m\u001b[0;34m)\u001b[0m\u001b[0;34m\u001b[0m\u001b[0;34m\u001b[0m\u001b[0m\n\u001b[0;32m----> 5\u001b[0;31m \u001b[0mprint\u001b[0m\u001b[0;34m(\u001b[0m\u001b[0maddress\u001b[0m\u001b[0;34m.\u001b[0m\u001b[0mupper\u001b[0m\u001b[0;34m[\u001b[0m\u001b[0;36m0\u001b[0m\u001b[0;34m:\u001b[0m\u001b[0;36m4\u001b[0m\u001b[0;34m]\u001b[0m\u001b[0;34m)\u001b[0m\u001b[0;34m\u001b[0m\u001b[0;34m\u001b[0m\u001b[0m\n\u001b[0m",
            "\u001b[0;31mTypeError\u001b[0m: 'builtin_function_or_method' object is not subscriptable"
          ]
        }
      ]
    },
    {
      "cell_type": "code",
      "source": [
        "#strip(remove white spaces)\n",
        "address= '  this is avinash coming from daba gardens allipuram to gitam   '\n",
        "print(address.strip())\n"
      ],
      "metadata": {
        "colab": {
          "base_uri": "https://localhost:8080/"
        },
        "id": "-t75VdiMHYp9",
        "outputId": "f91e455c-f047-430d-a6dc-2796e4da79e6"
      },
      "execution_count": null,
      "outputs": [
        {
          "output_type": "stream",
          "name": "stdout",
          "text": [
            "this is avinash coming from daba gardens allipuram to gitam\n"
          ]
        }
      ]
    },
    {
      "cell_type": "code",
      "source": [
        "#replace a string \n",
        "address= 'this is avinash coming from daba gardens allipuram to gitam '\n",
        "print(address.replace('this is ','i am '))"
      ],
      "metadata": {
        "colab": {
          "base_uri": "https://localhost:8080/"
        },
        "id": "Avsvh8QLIVp_",
        "outputId": "0f685ae4-cdf5-494f-a938-58901a81ddcc"
      },
      "execution_count": null,
      "outputs": [
        {
          "output_type": "stream",
          "name": "stdout",
          "text": [
            "i am avinash coming from daba gardens allipuram to gitam \n"
          ]
        }
      ]
    },
    {
      "cell_type": "code",
      "source": [
        "#split a string \n",
        "address= 'this is avinash coming from daba gardens allipuram to gitam '\n",
        "print(address.split(','))"
      ],
      "metadata": {
        "colab": {
          "base_uri": "https://localhost:8080/"
        },
        "id": "_-e1evY-JKyL",
        "outputId": "a3d002e4-9c6f-4e6d-8ab4-5ac58d0eb90d"
      },
      "execution_count": null,
      "outputs": [
        {
          "output_type": "stream",
          "name": "stdout",
          "text": [
            "['this is avinash coming from daba gardens allipuram to gitam ']\n"
          ]
        }
      ]
    },
    {
      "cell_type": "code",
      "source": [
        "# string concatination\n",
        "first_name=str(input(\"enter your first name\"))\n",
        "last_name=str(input(\"enter your  last  name\"))\n",
        "print(first_name+last_name)\n",
        "print(first_name +' upal baal' + last_name)"
      ],
      "metadata": {
        "colab": {
          "base_uri": "https://localhost:8080/"
        },
        "id": "vG7DRtC0J_ma",
        "outputId": "f9333cbb-abb4-4c16-dada-f1396f11c1f0"
      },
      "execution_count": null,
      "outputs": [
        {
          "output_type": "stream",
          "name": "stdout",
          "text": [
            "enter your first namesree\n",
            "enter your  last  nameari\n",
            "sreeari\n",
            "sree upal baalari\n"
          ]
        }
      ]
    },
    {
      "cell_type": "code",
      "source": [
        "#format_string\n",
        "age=19\n",
        "details=' i am avinash and im {} old  '\n",
        "print(details.format(age))\n",
        "\n",
        "\n",
        "\n",
        "\n",
        "\n",
        "\n"
      ],
      "metadata": {
        "id": "waS_DayXLNAz",
        "colab": {
          "base_uri": "https://localhost:8080/"
        },
        "outputId": "d0a8066c-5e0d-433e-f524-f69b7039a333"
      },
      "execution_count": null,
      "outputs": [
        {
          "output_type": "stream",
          "name": "stdout",
          "text": [
            " i am avinash and im 19 old  \n"
          ]
        }
      ]
    }
  ]
}