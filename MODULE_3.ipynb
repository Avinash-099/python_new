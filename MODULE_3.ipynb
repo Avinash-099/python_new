{
  "nbformat": 4,
  "nbformat_minor": 0,
  "metadata": {
    "colab": {
      "name": "MODULE_3.ipynb",
      "provenance": [],
      "authorship_tag": "ABX9TyNzJNueSI0OeC/epV5gj/jq",
      "include_colab_link": true
    },
    "kernelspec": {
      "name": "python3",
      "display_name": "Python 3"
    },
    "language_info": {
      "name": "python"
    }
  },
  "cells": [
    {
      "cell_type": "markdown",
      "metadata": {
        "id": "view-in-github",
        "colab_type": "text"
      },
      "source": [
        "<a href=\"https://colab.research.google.com/github/Avinash-099/python_new/blob/MODULE-3/MODULE_3.ipynb\" target=\"_parent\"><img src=\"https://colab.research.google.com/assets/colab-badge.svg\" alt=\"Open In Colab\"/></a>"
      ]
    },
    {
      "cell_type": "code",
      "execution_count": 1,
      "metadata": {
        "colab": {
          "base_uri": "https://localhost:8080/"
        },
        "id": "ab8VgTf3v7Qu",
        "outputId": "a5d17d88-c5a8-46e4-82e5-aa6610f91605"
      },
      "outputs": [
        {
          "output_type": "stream",
          "name": "stdout",
          "text": [
            "       companies location\n",
            "0         Amazon      Hyd\n",
            "1          Wipro      Vsp\n",
            "2         google      Blr\n",
            "3  national inst  Chennai\n"
          ]
        }
      ],
      "source": [
        "##read an entire text file.\n",
        "import pandas as pd\n",
        "AVINASH = {'companies':['Amazon','Wipro','google','national inst'],'location':['Hyd','Vsp','Blr','Chennai']}\n",
        "x = pd.DataFrame(AVINASH)\n",
        "print(x)"
      ]
    },
    {
      "cell_type": "code",
      "source": [
        "import pandas as pd\n",
        "marks = [98,89,85,78]\n",
        "AVI = pd.Series(marks)\n",
        "print(AVI)"
      ],
      "metadata": {
        "colab": {
          "base_uri": "https://localhost:8080/"
        },
        "id": "zMjmivmRxCr1",
        "outputId": "10693d25-6382-4ee9-d998-bfb84da0b6b5"
      },
      "execution_count": 2,
      "outputs": [
        {
          "output_type": "stream",
          "name": "stdout",
          "text": [
            "0    98\n",
            "1    89\n",
            "2    85\n",
            "3    78\n",
            "dtype: int64\n"
          ]
        }
      ]
    },
    {
      "cell_type": "code",
      "source": [
        "import pandas as pd\n",
        "AVINASH = {'companies':['Amazon','Wipro','google','fipcart'],'location':['Hyd','Vsp','Blr','Chennai']}\n",
        "x = pd.DataFrame(AVINASH)\n",
        "print(x)"
      ],
      "metadata": {
        "colab": {
          "base_uri": "https://localhost:8080/"
        },
        "id": "3m8c8uZIw4ju",
        "outputId": "ed1445dc-a87f-46bd-88e7-5ed4b6cfc7e4"
      },
      "execution_count": 3,
      "outputs": [
        {
          "output_type": "stream",
          "name": "stdout",
          "text": [
            "  companies location\n",
            "0    Amazon      Hyd\n",
            "1     Wipro      Vsp\n",
            "2    google      Blr\n",
            "3   fipcart  Chennai\n"
          ]
        }
      ]
    },
    {
      "cell_type": "code",
      "source": [
        "import pandas as pd\n",
        "marks = [98,89,85,78]\n",
        "S = pd.Series(marks)\n",
        "print(S)\n",
        "print(S[3])"
      ],
      "metadata": {
        "colab": {
          "base_uri": "https://localhost:8080/"
        },
        "id": "WO22ap8sxJ9L",
        "outputId": "2ebd4013-3f0b-4b5f-beaf-1b7d07ec3dc8"
      },
      "execution_count": 4,
      "outputs": [
        {
          "output_type": "stream",
          "name": "stdout",
          "text": [
            "0    98\n",
            "1    89\n",
            "2    85\n",
            "3    78\n",
            "dtype: int64\n",
            "78\n"
          ]
        }
      ]
    },
    {
      "cell_type": "code",
      "source": [
        "import pandas as pd\n",
        "mani ={\"a1\": 19, \"a2\": 15, \"a3\": 18}\n",
        "x = pd.Series(mani,index=[\"a1\",\"a2\"])\n",
        "print(x)"
      ],
      "metadata": {
        "colab": {
          "base_uri": "https://localhost:8080/"
        },
        "id": "EQwyGSlsxTxt",
        "outputId": "078eb3d8-cacb-4eb3-ebc3-9c05d67a9160"
      },
      "execution_count": 8,
      "outputs": [
        {
          "output_type": "stream",
          "name": "stdout",
          "text": [
            "a1    19\n",
            "a2    15\n",
            "dtype: int64\n"
          ]
        }
      ]
    },
    {
      "cell_type": "code",
      "source": [
        "import pandas as pd\n",
        "empPublications = {\n",
        "  \"Employees\": [\"hari\", \"mani\", \"vishnu\"],\n",
        "  \"Publications\": [50, 70, 65]\n",
        "}\n",
        "myvar = pd.DataFrame(empPublications,index=[\"2001\",\"2002\",\"2003\"])\n",
        "print(myvar)\n",
        "print(myvar.loc[\"2001\"])"
      ],
      "metadata": {
        "colab": {
          "base_uri": "https://localhost:8080/"
        },
        "id": "svyPVT8exqdH",
        "outputId": "9b8f0862-3dfd-4bf9-9db7-370d9e38b79b"
      },
      "execution_count": 9,
      "outputs": [
        {
          "output_type": "stream",
          "name": "stdout",
          "text": [
            "     Employees  Publications\n",
            "2001      hari            50\n",
            "2002      mani            70\n",
            "2003    vishnu            65\n",
            "Employees       hari\n",
            "Publications      50\n",
            "Name: 2001, dtype: object\n"
          ]
        }
      ]
    },
    {
      "cell_type": "code",
      "source": [
        "import pandas as pd\n",
        "\n",
        "mydataset = {\n",
        "  'bike': [\"pulsar\", \"unicon\", \"glamer\"],\n",
        "  'passings': [3, 7, 2]\n",
        "}\n",
        "\n",
        "myvar = pd.DataFrame(mydataset)\n",
        "\n",
        "print(myvar)\n"
      ],
      "metadata": {
        "colab": {
          "base_uri": "https://localhost:8080/"
        },
        "id": "W4F74ikpyNuT",
        "outputId": "6865e3be-1f9e-4fa6-e98a-adb563ed64e1"
      },
      "execution_count": 11,
      "outputs": [
        {
          "output_type": "stream",
          "name": "stdout",
          "text": [
            "     bike  passings\n",
            "0  pulsar         3\n",
            "1  unicon         7\n",
            "2  glamer         2\n"
          ]
        }
      ]
    },
    {
      "cell_type": "code",
      "source": [
        "import pandas\n",
        "\n",
        "mydataset = {\n",
        "  'tracors': [\"swaraj\", \"kubota\", \"sonalika\"],\n",
        "  'passings': [4, 8, 3]\n",
        "}\n",
        "\n",
        "myvar = pandas.DataFrame(mydataset)\n",
        "\n",
        "print(myvar)\n"
      ],
      "metadata": {
        "colab": {
          "base_uri": "https://localhost:8080/"
        },
        "id": "sg02IPCRyQoU",
        "outputId": "98fb6718-4f5c-485f-92cf-3b9944e75b69"
      },
      "execution_count": 12,
      "outputs": [
        {
          "output_type": "stream",
          "name": "stdout",
          "text": [
            "    tracors  passings\n",
            "0    swaraj         4\n",
            "1    kubota         8\n",
            "2  sonalika         3\n"
          ]
        }
      ]
    },
    {
      "cell_type": "code",
      "source": [
        "import pandas\n",
        "\n",
        "mycurries = {\n",
        "  'items': [\"chicken\", \"mutton\", \"egg\"],\n",
        "  'passings': [160, 800, 5]\n",
        "}\n",
        "\n",
        "a = pandas.DataFrame(mycurries)\n",
        "\n",
        "print(a)\n"
      ],
      "metadata": {
        "colab": {
          "base_uri": "https://localhost:8080/"
        },
        "id": "auGpaOxMyVe_",
        "outputId": "e825a92b-df89-4891-8b69-a3464a71b139"
      },
      "execution_count": 13,
      "outputs": [
        {
          "output_type": "stream",
          "name": "stdout",
          "text": [
            "     items  passings\n",
            "0  chicken       160\n",
            "1   mutton       800\n",
            "2      egg         5\n"
          ]
        }
      ]
    },
    {
      "cell_type": "code",
      "source": [
        "## index\n",
        "import pandas as pd\n",
        "\n",
        "a = [1532, 1704, 1286]\n",
        "\n",
        "myvar = pd.Series(a)\n",
        "\n",
        "print(myvar[0])\n",
        "print(myvar[1])\n",
        "print(myvar[2])\n"
      ],
      "metadata": {
        "colab": {
          "base_uri": "https://localhost:8080/"
        },
        "id": "X-aebF40yZb1",
        "outputId": "18ea045c-c0a5-4d5a-b458-2748411ad9ee"
      },
      "execution_count": 14,
      "outputs": [
        {
          "output_type": "stream",
          "name": "stdout",
          "text": [
            "1532\n",
            "1704\n",
            "1286\n"
          ]
        }
      ]
    },
    {
      "cell_type": "code",
      "source": [
        "## Create Labels\n",
        "import pandas as pd\n",
        "\n",
        "company=[\"swaraj\", \"kubota\", \"sonalika\"]\n",
        "\n",
        "myvar = pd.Series(company, index = [\"x\", \"y\", \"z\"])\n",
        "\n",
        "print(myvar)"
      ],
      "metadata": {
        "colab": {
          "base_uri": "https://localhost:8080/"
        },
        "id": "eK60S9I8ymMi",
        "outputId": "725f6847-bbff-41a7-eba0-064cf506f6a0"
      },
      "execution_count": 15,
      "outputs": [
        {
          "output_type": "stream",
          "name": "stdout",
          "text": [
            "x      swaraj\n",
            "y      kubota\n",
            "z    sonalika\n",
            "dtype: object\n"
          ]
        }
      ]
    }
  ]
}