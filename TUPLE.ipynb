{
  "nbformat": 4,
  "nbformat_minor": 0,
  "metadata": {
    "colab": {
      "name": "TUPLE.ipynb",
      "provenance": [],
      "authorship_tag": "ABX9TyNldbE3uq631SIT3IsxBj6W",
      "include_colab_link": true
    },
    "kernelspec": {
      "name": "python3",
      "display_name": "Python 3"
    },
    "language_info": {
      "name": "python"
    }
  },
  "cells": [
    {
      "cell_type": "markdown",
      "metadata": {
        "id": "view-in-github",
        "colab_type": "text"
      },
      "source": [
        "<a href=\"https://colab.research.google.com/github/Avinash-099/python_new/blob/MODULE-2/TUPLE.ipynb\" target=\"_parent\"><img src=\"https://colab.research.google.com/assets/colab-badge.svg\" alt=\"Open In Colab\"/></a>"
      ]
    },
    {
      "cell_type": "code",
      "execution_count": null,
      "metadata": {
        "colab": {
          "base_uri": "https://localhost:8080/"
        },
        "id": "6PlEavJLOSFv",
        "outputId": "0031135c-4e34-40f0-f86e-185d5fa7c688"
      },
      "outputs": [
        {
          "output_type": "stream",
          "name": "stdout",
          "text": [
            "['avinash', 'sree', 'hari', 'theeja', 'hari']\n",
            "5\n",
            "<class 'list'>\n",
            "('avinash', 'sree', 'hari', 'theeja', 'hari')\n",
            "5\n",
            "<class 'tuple'>\n"
          ]
        }
      ],
      "source": [
        "#tuple\n",
        "list=['avinash','sree','hari','theeja','hari']\n",
        "tuple=('avinash','sree','hari','theeja','hari')\n",
        "print(list)\n",
        "print(len(list))\n",
        "print(type(list))\n",
        "print(tuple)\n",
        "print(len(tuple))\n",
        "print(type(tuple))\n"
      ]
    },
    {
      "cell_type": "code",
      "source": [
        "#tuple1\n",
        "fruits=('mango','apple','stawberry','orange')\n",
        "print(type(fruits))"
      ],
      "metadata": {
        "colab": {
          "base_uri": "https://localhost:8080/"
        },
        "id": "fvWUBBXoTF1j",
        "outputId": "6eea0dd4-40f5-474f-d4af-2688b5663d91"
      },
      "execution_count": null,
      "outputs": [
        {
          "output_type": "stream",
          "name": "stdout",
          "text": [
            "<class 'tuple'>\n"
          ]
        }
      ]
    },
    {
      "cell_type": "code",
      "source": [
        "#tuple2\n",
        "fruits=('mango','apple','stawberry','orange')\n",
        "if 'mango' in fruits:\n",
        "   print(\"yes\")\n"
      ],
      "metadata": {
        "id": "Ps5kmH_7T4-x",
        "colab": {
          "base_uri": "https://localhost:8080/"
        },
        "outputId": "297967a7-ce77-42d5-e2ff-37a12b4e8ab1"
      },
      "execution_count": null,
      "outputs": [
        {
          "output_type": "stream",
          "name": "stdout",
          "text": [
            "yes\n"
          ]
        }
      ]
    },
    {
      "cell_type": "code",
      "source": [
        "#tuple3\n",
        "alphabets=('a','b','c','d')\n",
        "alpha1=list(alphabets)\n",
        "alpha1.append('e')\n",
        "alphabet=tuple(alpha1)\n",
        "print(alphabet)\n",
        "#tuple3.1\n",
        "team=('avinash','sree','balaji','rama')\n",
        "team_change=list(team)\n",
        "team_change.insert(1,'phani')\n",
        "team=tuple(team_change)\n",
        "print(team)\n",
        "\n",
        "\n"
      ],
      "metadata": {
        "colab": {
          "base_uri": "https://localhost:8080/"
        },
        "id": "atNldWc2oy4l",
        "outputId": "e81d7e0c-8f18-4c40-f016-4642383e5eec"
      },
      "execution_count": null,
      "outputs": [
        {
          "output_type": "stream",
          "name": "stdout",
          "text": [
            "('a', 'b', 'c', 'd', 'e')\n",
            "('avinash', 'phani', 'sree', 'balaji', 'rama')\n"
          ]
        }
      ]
    },
    {
      "cell_type": "code",
      "source": [
        "## The tuple() Constructor\n",
        "a = tuple((\"apple\", \"banana\", \"cherry\"))\n",
        "print(a)"
      ],
      "metadata": {
        "id": "xKckW5LwqOem",
        "colab": {
          "base_uri": "https://localhost:8080/"
        },
        "outputId": "faa2d973-e06b-4418-e0de-5861d13f75d4"
      },
      "execution_count": 1,
      "outputs": [
        {
          "output_type": "stream",
          "name": "stdout",
          "text": [
            "('apple', 'banana', 'cherry')\n"
          ]
        }
      ]
    },
    {
      "cell_type": "code",
      "source": [
        "## Range of Negative Indexes\n",
        "## returns the items from index -4 (included) to index -1 (excluded)\n",
        "fruits = (\"apple\", \"banana\", \"cherry\", \"orange\", \"kiwi\", \"melon\", \"mango\")\n",
        "print(fruits [-5:-1])\n",
        "print(fruits [-4:0])\n",
        "print(fruits [-3:-2])"
      ],
      "metadata": {
        "colab": {
          "base_uri": "https://localhost:8080/"
        },
        "id": "hFqXu6n3rD7B",
        "outputId": "8757bde5-04dc-451f-a928-7936b35ec0a5"
      },
      "execution_count": 2,
      "outputs": [
        {
          "output_type": "stream",
          "name": "stdout",
          "text": [
            "('cherry', 'orange', 'kiwi', 'melon')\n",
            "()\n",
            "('kiwi',)\n"
          ]
        }
      ]
    },
    {
      "cell_type": "code",
      "source": [
        "##  tuple into a list, add \"sheep\", and convert it back into a tuple\n",
        "a=(\"cow\",\"goat\",\"bufallow\",\"bullock\")\n",
        "b=list(a)\n",
        "b[2]=\"sheep\"\n",
        "a= tuple(b)\n",
        "print(a)"
      ],
      "metadata": {
        "colab": {
          "base_uri": "https://localhost:8080/"
        },
        "id": "roj9T560rI2x",
        "outputId": "77f2b33f-a065-4e52-8d1e-345e259d13bd"
      },
      "execution_count": 3,
      "outputs": [
        {
          "output_type": "stream",
          "name": "stdout",
          "text": [
            "('cow', 'goat', 'sheep', 'bullock')\n"
          ]
        }
      ]
    },
    {
      "cell_type": "code",
      "source": [
        "##Unpacking a tuple\n",
        "fruits = (\"apple\", \"banana\", \"cherry\")\n",
        "(green, yellow, red) = fruits\n",
        "print(green)\n",
        "print(yellow)\n",
        "print(red)"
      ],
      "metadata": {
        "colab": {
          "base_uri": "https://localhost:8080/"
        },
        "id": "ObNbso2_rN0K",
        "outputId": "e2e6299a-0527-41ba-95c9-7de8e4862585"
      },
      "execution_count": 4,
      "outputs": [
        {
          "output_type": "stream",
          "name": "stdout",
          "text": [
            "apple\n",
            "banana\n",
            "cherry\n"
          ]
        }
      ]
    },
    {
      "cell_type": "code",
      "source": [
        "animals=(\"cow\",\"buffalow\",\"goat\",\"sheep\")\n",
        "for x in animals:\n",
        "  print(x)"
      ],
      "metadata": {
        "colab": {
          "base_uri": "https://localhost:8080/"
        },
        "id": "y-ggIe09rRvd",
        "outputId": "8528e4e9-e9bb-49c8-db50-24f0f006b762"
      },
      "execution_count": 5,
      "outputs": [
        {
          "output_type": "stream",
          "name": "stdout",
          "text": [
            "cow\n",
            "buffalow\n",
            "goat\n",
            "sheep\n"
          ]
        }
      ]
    },
    {
      "cell_type": "code",
      "source": [
        "## Remove Items\n",
        "## Convert the tuple into a list, remove \"cow\", and convert it back into a tuple:\n",
        "animals=(\"cow\",\"buffalow\",\"goat\",\"sheep\")\n",
        "y = list(animals)\n",
        "y.remove(\"cow\")\n",
        "animals = tuple(y)\n",
        "print(animals)"
      ],
      "metadata": {
        "colab": {
          "base_uri": "https://localhost:8080/"
        },
        "id": "Ls3eRcunrT8T",
        "outputId": "358df95b-bbae-4dee-f56a-3e0485e1af00"
      },
      "execution_count": 6,
      "outputs": [
        {
          "output_type": "stream",
          "name": "stdout",
          "text": [
            "('buffalow', 'goat', 'sheep')\n"
          ]
        }
      ]
    },
    {
      "cell_type": "code",
      "source": [
        "## Tuple Items - Data Types\n",
        "a = (\"apple\", \"banana\", \"cherry\")\n",
        "print(a)\n",
        "b = (1, 5, 7, 9, 3)\n",
        "print(b)\n",
        "c = (True, False, False)\n",
        "print(c)"
      ],
      "metadata": {
        "colab": {
          "base_uri": "https://localhost:8080/"
        },
        "id": "2UHpVEsnrgKO",
        "outputId": "d406c56c-effb-43c2-c4de-857692fb1906"
      },
      "execution_count": 7,
      "outputs": [
        {
          "output_type": "stream",
          "name": "stdout",
          "text": [
            "('apple', 'banana', 'cherry')\n",
            "(1, 5, 7, 9, 3)\n",
            "(True, False, False)\n"
          ]
        }
      ]
    }
  ]
}