{
  "nbformat": 4,
  "nbformat_minor": 0,
  "metadata": {
    "colab": {
      "name": "module2.ipynb",
      "provenance": [],
      "collapsed_sections": [],
      "authorship_tag": "ABX9TyPV0hn5tKk1CEdHbW+NMM2J",
      "include_colab_link": true
    },
    "kernelspec": {
      "name": "python3",
      "display_name": "Python 3"
    },
    "language_info": {
      "name": "python"
    }
  },
  "cells": [
    {
      "cell_type": "markdown",
      "metadata": {
        "id": "view-in-github",
        "colab_type": "text"
      },
      "source": [
        "<a href=\"https://colab.research.google.com/github/Avinash-099/python_new/blob/MODULE-2/module2.ipynb\" target=\"_parent\"><img src=\"https://colab.research.google.com/assets/colab-badge.svg\" alt=\"Open In Colab\"/></a>"
      ]
    },
    {
      "cell_type": "code",
      "execution_count": null,
      "metadata": {
        "id": "yhR6ss96NEG5",
        "colab": {
          "base_uri": "https://localhost:8080/"
        },
        "outputId": "55fbb361-9a3b-409f-a117-41ae1ced5e5f"
      },
      "outputs": [
        {
          "output_type": "stream",
          "name": "stdout",
          "text": [
            "['Green', 'White', 'Black']\n"
          ]
        }
      ],
      "source": [
        "#Program to print a specified list after removing the 0th, 4th and 5th elements.\n",
        "#Sample List : ['Red', 'Green', 'White', 'Black', 'Pink', 'Yellow'] \n",
        "\n",
        "List = ['Red', 'Green', 'White', 'Black', 'Pink', 'Yellow'] \n",
        "List.remove('Red')\n",
        "List.remove('Pink')\n",
        "List.remove('Yellow')\n",
        "print(List)"
      ]
    },
    {
      "cell_type": "code",
      "source": [
        "def vote(name,age,gender):\n",
        "  print(\"name=\",name)\n",
        "  print(\"age=\",age)\n",
        "  print(\"gender=\",gender)\n",
        "  \n",
        "  if age>=18 :\n",
        "    print(\"elligible\")\n",
        "  else:\n",
        "    print(\"not elligible\")\n",
        "  \n",
        "vote(input(\"enter your name\"),int(input(\"enter your age\")),input(\"enter your gender\"))"
      ],
      "metadata": {
        "colab": {
          "base_uri": "https://localhost:8080/"
        },
        "id": "SDVEGxLRX-94",
        "outputId": "17da2391-3e23-448f-e43f-65ed3384653d"
      },
      "execution_count": null,
      "outputs": [
        {
          "output_type": "stream",
          "name": "stdout",
          "text": [
            "enter your nameavinash\n",
            "enter your age19\n",
            "enter your gendermale\n",
            "name= avinash\n",
            "age= 19\n",
            "gender= male\n",
            "elligible\n"
          ]
        }
      ]
    },
    {
      "cell_type": "code",
      "source": [
        "def list():\n",
        " list1=[1,2,5,6]\n",
        " list2=[4,6,5,7,8]\n",
        " y=set(list1)\n",
        " x=set(list2)\n",
        " diff=y.difference(x)\n",
        " \n",
        " print(diff)\n",
        "\n",
        "list()"
      ],
      "metadata": {
        "id": "dzlK5etDa-XT",
        "colab": {
          "base_uri": "https://localhost:8080/"
        },
        "outputId": "86a0f33f-bcec-4baa-d43a-4fe607aee85f"
      },
      "execution_count": null,
      "outputs": [
        {
          "output_type": "stream",
          "name": "stdout",
          "text": [
            "{1, 2}\n"
          ]
        }
      ]
    },
    {
      "cell_type": "code",
      "source": [
        "list=[3,4,6,7,8,10]\n",
        "list.sort()\n",
        "print(list[1])\n",
        "print(list[-2])"
      ],
      "metadata": {
        "colab": {
          "base_uri": "https://localhost:8080/"
        },
        "id": "3EQbqxvvw9q6",
        "outputId": "b6b9ce91-7d22-411b-990e-f8044820c32c"
      },
      "execution_count": null,
      "outputs": [
        {
          "output_type": "stream",
          "name": "stdout",
          "text": [
            "4\n",
            "8\n"
          ]
        }
      ]
    },
    {
      "cell_type": "code",
      "source": [
        "lisy=(\"rabbit\")\n",
        "lisy.replace(\"b\",\"c\")"
      ],
      "metadata": {
        "colab": {
          "base_uri": "https://localhost:8080/",
          "height": 35
        },
        "id": "C7Oj9kJty-4D",
        "outputId": "a4f3743c-2bf0-4ffd-ddfc-d6daf47878ec"
      },
      "execution_count": null,
      "outputs": [
        {
          "output_type": "execute_result",
          "data": {
            "text/plain": [
              "'raccit'"
            ],
            "application/vnd.google.colaboratory.intrinsic+json": {
              "type": "string"
            }
          },
          "metadata": {},
          "execution_count": 7
        }
      ]
    },
    {
      "cell_type": "code",
      "source": [
        "list=[4,5,6,7,8]\n",
        "result=[(val,pow(val,2)) for val in list]\n",
        "print(result)"
      ],
      "metadata": {
        "colab": {
          "base_uri": "https://localhost:8080/"
        },
        "id": "GZ_eEwAfzRl5",
        "outputId": "64185e35-a174-4625-93fb-d2d7e72c3be7"
      },
      "execution_count": null,
      "outputs": [
        {
          "output_type": "stream",
          "name": "stdout",
          "text": [
            "[(4, 16), (5, 25), (6, 36), (7, 49), (8, 64)]\n"
          ]
        }
      ]
    },
    {
      "cell_type": "code",
      "source": [
        "myDict = {'a':1,'b':2,'c':3,'d':4}\n",
        "print(myDict)\n",
        "if 'a' in myDict: \n",
        "    del myDict['a']\n",
        "print(myDict)"
      ],
      "metadata": {
        "colab": {
          "base_uri": "https://localhost:8080/"
        },
        "id": "eJuP9Ciw0WDy",
        "outputId": "e6d3bc91-68ff-4c25-d650-4551a73880b8"
      },
      "execution_count": null,
      "outputs": [
        {
          "output_type": "stream",
          "name": "stdout",
          "text": [
            "{'a': 1, 'b': 2, 'c': 3, 'd': 4}\n",
            "{'b': 2, 'c': 3, 'd': 4}\n"
          ]
        }
      ]
    },
    {
      "cell_type": "code",
      "source": [
        "    string=\"AVinaSH\"\n",
        "    d={\"UPPER_CASE\":0, \"LOWER_CASE\":0}\n",
        "    for i in string:\n",
        "        if i.isupper():\n",
        "           d[\"UPPER_CASE\"]+=1\n",
        "        elif i.islower():\n",
        "           d[\"LOWER_CASE\"]+=1\n",
        "        else:\n",
        "           pass\n",
        "    print (\"Original String : \", string)\n",
        "    print (\"Upper case characters : \", d[\"UPPER_CASE\"])\n",
        "    print (\"Lower case Characters : \", d[\"LOWER_CASE\"])\n"
      ],
      "metadata": {
        "colab": {
          "base_uri": "https://localhost:8080/"
        },
        "id": "MOV2x1oh1VsJ",
        "outputId": "60f4fec0-7236-4c29-dc14-a846ab1ecf44"
      },
      "execution_count": null,
      "outputs": [
        {
          "output_type": "stream",
          "name": "stdout",
          "text": [
            "Original String :  AVinaSH\n",
            "No. of Upper case characters :  4\n",
            "No. of Lower case Characters :  3\n"
          ]
        }
      ]
    },
    {
      "cell_type": "code",
      "source": [
        ""
      ],
      "metadata": {
        "id": "N6xQlJ9n2RMK"
      },
      "execution_count": null,
      "outputs": []
    }
  ]
}